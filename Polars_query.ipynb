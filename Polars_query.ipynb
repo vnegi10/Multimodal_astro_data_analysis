{
 "cells": [
  {
   "cell_type": "code",
   "execution_count": 1,
   "id": "878d251d-4be3-4c6e-973a-1485d75f1060",
   "metadata": {},
   "outputs": [
    {
     "name": "stdout",
     "output_type": "stream",
     "text": [
      "1.18.0\n"
     ]
    }
   ],
   "source": [
    "import polars as pl\n",
    "pl.Config.set_tbl_cols(10)\n",
    "print(pl.__version__)\n",
    "\n",
    "import os"
   ]
  },
  {
   "cell_type": "markdown",
   "id": "92b94bff-f2dc-44a2-9f01-ebb349addeaf",
   "metadata": {},
   "source": [
    "## Get list of files"
   ]
  },
  {
   "cell_type": "code",
   "execution_count": 2,
   "id": "7b058911-26c0-40d5-b992-23386ee18a52",
   "metadata": {},
   "outputs": [],
   "source": [
    "parquet_folder = \"/home/vikas/Desktop/Globus/Gaia/gaia_parquet\"\n",
    "\n",
    "def get_files(table_name):\n",
    "\n",
    "    return os.path.join(parquet_folder, table_name, \"*\")"
   ]
  },
  {
   "cell_type": "markdown",
   "id": "f49ef929-c6f3-4114-a6c4-ff7c0998f76b",
   "metadata": {},
   "source": [
    "## Run query"
   ]
  },
  {
   "cell_type": "markdown",
   "id": "7d290d86-36d0-40c7-822a-c5012e0598a8",
   "metadata": {},
   "source": [
    "### Eager"
   ]
  },
  {
   "cell_type": "code",
   "execution_count": 3,
   "id": "92982cbf-9426-46a5-baa6-874f89842e34",
   "metadata": {},
   "outputs": [],
   "source": [
    "# df_photometry = (\n",
    "#     pl.read_parquet(get_files(\"photometry\"))\n",
    "#     .filter(pl.col(\"phot_bp_mean_flux\") > 5)\n",
    "# )"
   ]
  },
  {
   "cell_type": "markdown",
   "id": "8567498d-b57d-4b19-a71d-20c5cfa0b80a",
   "metadata": {},
   "source": [
    "### Lazy"
   ]
  },
  {
   "cell_type": "markdown",
   "id": "7b5ed8fa-f71f-4a7a-a799-8cc258bb0c6b",
   "metadata": {},
   "source": [
    "#### Number of unique objects"
   ]
  },
  {
   "cell_type": "code",
   "execution_count": 4,
   "id": "bfb2ca7c-ae16-4da5-8893-ce84f3200ac5",
   "metadata": {},
   "outputs": [],
   "source": [
    "def stream_query_1():\n",
    "\n",
    "    q1 = (\n",
    "        pl.scan_parquet(get_files(\"photometry\"))\n",
    "          .select(\"object_id\")\n",
    "          .unique()\n",
    "    )\n",
    "\n",
    "    #print(q1.explain(streaming = True))\n",
    "\n",
    "    return q1.collect(streaming = True)"
   ]
  },
  {
   "cell_type": "code",
   "execution_count": 5,
   "id": "de1ea280-16b4-451c-8cd6-f4a7d2e40e16",
   "metadata": {},
   "outputs": [],
   "source": [
    "#stream_query_1().shape"
   ]
  },
  {
   "cell_type": "markdown",
   "id": "ac6bb0b1-416d-4323-a119-92b43a10e5d1",
   "metadata": {},
   "source": [
    "#### Highest and lowest brightness"
   ]
  },
  {
   "cell_type": "code",
   "execution_count": 6,
   "id": "624a9d24-4b01-46fc-89e4-46b6bcd4c18b",
   "metadata": {},
   "outputs": [],
   "source": [
    "def stream_query_2():\n",
    "\n",
    "    q1 = (\n",
    "        pl.scan_parquet(get_files(\"photometry\"))\n",
    "          .group_by(\"healpix\")\n",
    "          .agg(\n",
    "              pl.col(\"phot_g_mean_mag\").min().alias(\"min_phot_g_mean_mag\"),\n",
    "              pl.col(\"phot_g_mean_mag\").max().alias(\"max_phot_g_mean_mag\")\n",
    "          )\n",
    "        .sort(\"healpix\")\n",
    "    )\n",
    "\n",
    "    #print(q1.explain(streaming = True))\n",
    "\n",
    "    return q1.collect(streaming = True)"
   ]
  },
  {
   "cell_type": "code",
   "execution_count": 7,
   "id": "c8342dfa-b09a-4d20-8f32-3cf489c37a00",
   "metadata": {},
   "outputs": [],
   "source": [
    "#stream_query_2()"
   ]
  },
  {
   "cell_type": "markdown",
   "id": "1235d389-5ed4-4204-a521-57c96a5d65b0",
   "metadata": {},
   "source": [
    "#### Joins"
   ]
  },
  {
   "cell_type": "code",
   "execution_count": 8,
   "id": "341efac3-570d-4bfa-92c0-15b712b0e0bc",
   "metadata": {},
   "outputs": [],
   "source": [
    "def stream_query_3(max_healpix):\n",
    "\n",
    "    q1 = (pl.scan_parquet(get_files(\"radial_velocity\"))\n",
    "            .select(\"radial_velocity\",\n",
    "                    \"object_id\",\n",
    "                    \"healpix\")\n",
    "            .filter(pl.col(\"healpix\") < max_healpix)\n",
    "         )\n",
    "\n",
    "    q2 = (pl.scan_parquet(get_files(\"astrometry\"))\n",
    "            .select(\"ra_error\",\n",
    "                    \"dec_error\",\n",
    "                    \"parallax_error\",\n",
    "                    \"object_id\",\n",
    "                    \"healpix\")\n",
    "            .filter(pl.col(\"healpix\") < max_healpix)\n",
    "         )\n",
    "\n",
    "    q3 = (pl.scan_parquet(get_files(\"gspphot\"))\n",
    "            .select(\"distance_gspphot\",\n",
    "                    \"object_id\",\n",
    "                    \"healpix\")\n",
    "            .filter(pl.col(\"healpix\") < max_healpix)\n",
    "         )\n",
    "\n",
    "    q4 = (\n",
    "        pl.scan_parquet(get_files(\"photometry\"))\n",
    "          .filter(pl.col(\"healpix\") < max_healpix)\n",
    "          .select(\n",
    "              \"object_id\",\n",
    "              \"healpix\",\n",
    "              \"phot_g_mean_mag\"\n",
    "          )\n",
    "          .join(q1, \n",
    "                on = [\"object_id\", \"healpix\"],\n",
    "                how = \"left\")\n",
    "          .join(q2, \n",
    "                on = [\"object_id\", \"healpix\"],\n",
    "                how = \"left\")\n",
    "          .join(q3, \n",
    "                on = [\"object_id\", \"healpix\"],\n",
    "                how = \"left\")\n",
    "          .fill_null(strategy = \"zero\")\n",
    "          .group_by(\"healpix\", maintain_order = False) \n",
    "          .agg(\n",
    "              pl.col(\"phot_g_mean_mag\").min().alias(\"min_phot_g_mean_mag\"),\n",
    "              pl.col(\"phot_g_mean_mag\").max().alias(\"max_phot_g_mean_mag\"),\n",
    "              pl.col(\"radial_velocity\").min().alias(\"min_radial_velocity\"),\n",
    "              pl.col(\"radial_velocity\").max().alias(\"max_radial_velocity\"),\n",
    "              pl.col(\"ra_error\").mean().alias(\"mean_ra_error\"),\n",
    "              pl.col(\"dec_error\").mean().alias(\"mean_dec_error\"),\n",
    "              pl.col(\"parallax_error\").mean().alias(\"mean_parallax_error\"),\n",
    "              pl.col(\"distance_gspphot\").min().alias(\"min_distance_gspphot\"),\n",
    "              pl.col(\"distance_gspphot\").max().alias(\"max_distance_gspphot\")\n",
    "              )\n",
    "          .sort(\"healpix\")\n",
    "    )\n",
    "\n",
    "    #print(q2.explain(streaming = True))\n",
    "\n",
    "    return q4.collect(streaming = True)"
   ]
  },
  {
   "cell_type": "code",
   "execution_count": 12,
   "id": "c6e78086-a4e9-4004-87cc-072da5c25151",
   "metadata": {},
   "outputs": [
    {
     "name": "stdout",
     "output_type": "stream",
     "text": [
      "CPU times: user 1min 1s, sys: 4.8 s, total: 1min 5s\n",
      "Wall time: 15.2 s\n"
     ]
    },
    {
     "data": {
      "text/html": [
       "<div><style>\n",
       ".dataframe > thead > tr,\n",
       ".dataframe > tbody > tr {\n",
       "  text-align: right;\n",
       "  white-space: pre-wrap;\n",
       "}\n",
       "</style>\n",
       "<small>shape: (804, 10)</small><table border=\"1\" class=\"dataframe\"><thead><tr><th>healpix</th><th>min_phot_g_mean_mag</th><th>max_phot_g_mean_mag</th><th>min_radial_velocity</th><th>max_radial_velocity</th><th>mean_ra_error</th><th>mean_dec_error</th><th>mean_parallax_error</th><th>min_distance_gspphot</th><th>max_distance_gspphot</th></tr><tr><td>i32</td><td>f32</td><td>f32</td><td>f32</td><td>f32</td><td>f32</td><td>f32</td><td>f32</td><td>f32</td><td>f32</td></tr></thead><tbody><tr><td>0</td><td>6.855546</td><td>19.842781</td><td>-185.370361</td><td>244.173599</td><td>0.056582</td><td>0.051986</td><td>NaN</td><td>41.3937</td><td>19867.748047</td></tr><tr><td>1</td><td>7.355467</td><td>19.706682</td><td>-224.071869</td><td>243.473114</td><td>0.058384</td><td>0.054546</td><td>NaN</td><td>8.6131</td><td>10106.150391</td></tr><tr><td>2</td><td>7.312822</td><td>19.992142</td><td>-545.814758</td><td>241.080765</td><td>0.062313</td><td>0.056831</td><td>NaN</td><td>24.5298</td><td>15997.161133</td></tr><tr><td>3</td><td>6.964732</td><td>19.499153</td><td>-295.097992</td><td>235.114029</td><td>0.060839</td><td>0.054957</td><td>NaN</td><td>30.2407</td><td>15285.828125</td></tr><tr><td>4</td><td>3.382374</td><td>20.126875</td><td>-258.272003</td><td>256.130188</td><td>0.062764</td><td>0.056046</td><td>NaN</td><td>31.565901</td><td>9622.666992</td></tr><tr><td>&hellip;</td><td>&hellip;</td><td>&hellip;</td><td>&hellip;</td><td>&hellip;</td><td>&hellip;</td><td>&hellip;</td><td>&hellip;</td><td>&hellip;</td><td>&hellip;</td></tr><tr><td>1295</td><td>6.074595</td><td>20.110273</td><td>-98.658363</td><td>296.361847</td><td>0.034101</td><td>0.049451</td><td>NaN</td><td>15.0559</td><td>14408.869141</td></tr><tr><td>1296</td><td>4.80866</td><td>20.670574</td><td>-93.955078</td><td>348.503418</td><td>0.039399</td><td>0.049156</td><td>NaN</td><td>26.889999</td><td>12304.650391</td></tr><tr><td>1297</td><td>6.93891</td><td>20.097332</td><td>-44.543076</td><td>232.561188</td><td>0.031051</td><td>0.052891</td><td>NaN</td><td>73.528</td><td>8851.900391</td></tr><tr><td>1298</td><td>6.049368</td><td>20.341269</td><td>-145.648224</td><td>426.696136</td><td>0.03497</td><td>0.048439</td><td>NaN</td><td>66.710197</td><td>11965.27832</td></tr><tr><td>1299</td><td>5.698586</td><td>20.313173</td><td>-98.081726</td><td>337.232178</td><td>0.028786</td><td>0.049093</td><td>NaN</td><td>31.869699</td><td>10251.512695</td></tr></tbody></table></div>"
      ],
      "text/plain": [
       "shape: (804, 10)\n",
       "┌─────────┬─────────┬─────────┬─────────┬─────────┬─────────┬─────────┬─────────┬─────────┬────────┐\n",
       "│ healpix ┆ min_pho ┆ max_pho ┆ min_rad ┆ max_rad ┆ mean_ra ┆ mean_de ┆ mean_pa ┆ min_dis ┆ max_di │\n",
       "│ ---     ┆ t_g_mea ┆ t_g_mea ┆ ial_vel ┆ ial_vel ┆ _error  ┆ c_error ┆ rallax_ ┆ tance_g ┆ stance │\n",
       "│ i32     ┆ n_mag   ┆ n_mag   ┆ ocity   ┆ ocity   ┆ ---     ┆ ---     ┆ error   ┆ spphot  ┆ _gspph │\n",
       "│         ┆ ---     ┆ ---     ┆ ---     ┆ ---     ┆ f32     ┆ f32     ┆ ---     ┆ ---     ┆ ot     │\n",
       "│         ┆ f32     ┆ f32     ┆ f32     ┆ f32     ┆         ┆         ┆ f32     ┆ f32     ┆ ---    │\n",
       "│         ┆         ┆         ┆         ┆         ┆         ┆         ┆         ┆         ┆ f32    │\n",
       "╞═════════╪═════════╪═════════╪═════════╪═════════╪═════════╪═════════╪═════════╪═════════╪════════╡\n",
       "│ 0       ┆ 6.85554 ┆ 19.8427 ┆ -185.37 ┆ 244.173 ┆ 0.05658 ┆ 0.05198 ┆ NaN     ┆ 41.3937 ┆ 19867. │\n",
       "│         ┆ 6       ┆ 81      ┆ 0361    ┆ 599     ┆ 2       ┆ 6       ┆         ┆         ┆ 748047 │\n",
       "│ 1       ┆ 7.35546 ┆ 19.7066 ┆ -224.07 ┆ 243.473 ┆ 0.05838 ┆ 0.05454 ┆ NaN     ┆ 8.6131  ┆ 10106. │\n",
       "│         ┆ 7       ┆ 82      ┆ 1869    ┆ 114     ┆ 4       ┆ 6       ┆         ┆         ┆ 150391 │\n",
       "│ 2       ┆ 7.31282 ┆ 19.9921 ┆ -545.81 ┆ 241.080 ┆ 0.06231 ┆ 0.05683 ┆ NaN     ┆ 24.5298 ┆ 15997. │\n",
       "│         ┆ 2       ┆ 42      ┆ 4758    ┆ 765     ┆ 3       ┆ 1       ┆         ┆         ┆ 161133 │\n",
       "│ 3       ┆ 6.96473 ┆ 19.4991 ┆ -295.09 ┆ 235.114 ┆ 0.06083 ┆ 0.05495 ┆ NaN     ┆ 30.2407 ┆ 15285. │\n",
       "│         ┆ 2       ┆ 53      ┆ 7992    ┆ 029     ┆ 9       ┆ 7       ┆         ┆         ┆ 828125 │\n",
       "│ 4       ┆ 3.38237 ┆ 20.1268 ┆ -258.27 ┆ 256.130 ┆ 0.06276 ┆ 0.05604 ┆ NaN     ┆ 31.5659 ┆ 9622.6 │\n",
       "│         ┆ 4       ┆ 75      ┆ 2003    ┆ 188     ┆ 4       ┆ 6       ┆         ┆ 01      ┆ 66992  │\n",
       "│ …       ┆ …       ┆ …       ┆ …       ┆ …       ┆ …       ┆ …       ┆ …       ┆ …       ┆ …      │\n",
       "│ 1295    ┆ 6.07459 ┆ 20.1102 ┆ -98.658 ┆ 296.361 ┆ 0.03410 ┆ 0.04945 ┆ NaN     ┆ 15.0559 ┆ 14408. │\n",
       "│         ┆ 5       ┆ 73      ┆ 363     ┆ 847     ┆ 1       ┆ 1       ┆         ┆         ┆ 869141 │\n",
       "│ 1296    ┆ 4.80866 ┆ 20.6705 ┆ -93.955 ┆ 348.503 ┆ 0.03939 ┆ 0.04915 ┆ NaN     ┆ 26.8899 ┆ 12304. │\n",
       "│         ┆         ┆ 74      ┆ 078     ┆ 418     ┆ 9       ┆ 6       ┆         ┆ 99      ┆ 650391 │\n",
       "│ 1297    ┆ 6.93891 ┆ 20.0973 ┆ -44.543 ┆ 232.561 ┆ 0.03105 ┆ 0.05289 ┆ NaN     ┆ 73.528  ┆ 8851.9 │\n",
       "│         ┆         ┆ 32      ┆ 076     ┆ 188     ┆ 1       ┆ 1       ┆         ┆         ┆ 00391  │\n",
       "│ 1298    ┆ 6.04936 ┆ 20.3412 ┆ -145.64 ┆ 426.696 ┆ 0.03497 ┆ 0.04843 ┆ NaN     ┆ 66.7101 ┆ 11965. │\n",
       "│         ┆ 8       ┆ 69      ┆ 8224    ┆ 136     ┆         ┆ 9       ┆         ┆ 97      ┆ 27832  │\n",
       "│ 1299    ┆ 5.69858 ┆ 20.3131 ┆ -98.081 ┆ 337.232 ┆ 0.02878 ┆ 0.04909 ┆ NaN     ┆ 31.8696 ┆ 10251. │\n",
       "│         ┆ 6       ┆ 73      ┆ 726     ┆ 178     ┆ 6       ┆ 3       ┆         ┆ 99      ┆ 512695 │\n",
       "└─────────┴─────────┴─────────┴─────────┴─────────┴─────────┴─────────┴─────────┴─────────┴────────┘"
      ]
     },
     "execution_count": 12,
     "metadata": {},
     "output_type": "execute_result"
    }
   ],
   "source": [
    "%%time\n",
    "\n",
    "stream_query_3(1300)"
   ]
  },
  {
   "cell_type": "markdown",
   "id": "0c63e745-89bb-482a-a176-443990f76bb7",
   "metadata": {},
   "source": [
    "#### Red and blue shift"
   ]
  },
  {
   "cell_type": "code",
   "execution_count": 10,
   "id": "4b0d3c9d-93ae-49fa-8eed-41faff950e5d",
   "metadata": {},
   "outputs": [],
   "source": [
    "def stream_query_4():\n",
    "    \n",
    "    q1 = (\n",
    "        pl.scan_parquet(get_files(\"radial_velocity\"))\n",
    "          .select(\"radial_velocity\")\n",
    "          .with_columns(\n",
    "              # Red shift\n",
    "              pl.when(pl.col(\"radial_velocity\") > 0)\n",
    "                .then(1)\n",
    "                .otherwise(0)\n",
    "                .alias(\"red\"),\n",
    "              \n",
    "              # Blue shift\n",
    "              pl.when(pl.col(\"radial_velocity\") < 0)\n",
    "                .then(-1)\n",
    "                .otherwise(0)\n",
    "                .alias(\"blue\"),\n",
    "          )\n",
    "    )\n",
    "\n",
    "    # Compute the sum of each column\n",
    "    result = q1.select([\n",
    "        pl.col(\"red\").sum().alias(\"sum_red\"),\n",
    "        pl.col(\"blue\").sum().alias(\"sum_blue\")\n",
    "    ])\n",
    "\n",
    "    #print(result.explain(streaming=True))\n",
    "\n",
    "    return result.collect(streaming = True)"
   ]
  },
  {
   "cell_type": "code",
   "execution_count": 11,
   "id": "27eff94e-c04c-4001-902f-07bfa8dbae37",
   "metadata": {},
   "outputs": [],
   "source": [
    "# stream_query_4()"
   ]
  }
 ],
 "metadata": {
  "kernelspec": {
   "display_name": "Python 3 (ipykernel)",
   "language": "python",
   "name": "python3"
  },
  "language_info": {
   "codemirror_mode": {
    "name": "ipython",
    "version": 3
   },
   "file_extension": ".py",
   "mimetype": "text/x-python",
   "name": "python",
   "nbconvert_exporter": "python",
   "pygments_lexer": "ipython3",
   "version": "3.10.12"
  }
 },
 "nbformat": 4,
 "nbformat_minor": 5
}
