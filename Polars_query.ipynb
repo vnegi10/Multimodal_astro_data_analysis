{
 "cells": [
  {
   "cell_type": "code",
   "execution_count": 1,
   "id": "878d251d-4be3-4c6e-973a-1485d75f1060",
   "metadata": {},
   "outputs": [
    {
     "name": "stdout",
     "output_type": "stream",
     "text": [
      "1.18.0\n",
      "1.25.0\n"
     ]
    }
   ],
   "source": [
    "import polars as pl\n",
    "pl.Config.set_tbl_cols(10)\n",
    "print(pl.__version__)\n",
    "\n",
    "import os\n",
    "import numpy as np\n",
    "print(np.__version__)"
   ]
  },
  {
   "cell_type": "markdown",
   "id": "92b94bff-f2dc-44a2-9f01-ebb349addeaf",
   "metadata": {},
   "source": [
    "## Get list of files"
   ]
  },
  {
   "cell_type": "code",
   "execution_count": 2,
   "id": "7b058911-26c0-40d5-b992-23386ee18a52",
   "metadata": {},
   "outputs": [],
   "source": [
    "parquet_folder = \"/home/vikas/Desktop/Globus/Gaia/gaia_parquet\"\n",
    "\n",
    "def get_files(table_name):\n",
    "\n",
    "    return os.path.join(parquet_folder, table_name, \"*\")"
   ]
  },
  {
   "cell_type": "markdown",
   "id": "f49ef929-c6f3-4114-a6c4-ff7c0998f76b",
   "metadata": {},
   "source": [
    "## Run query"
   ]
  },
  {
   "cell_type": "markdown",
   "id": "7d290d86-36d0-40c7-822a-c5012e0598a8",
   "metadata": {},
   "source": [
    "### Eager"
   ]
  },
  {
   "cell_type": "code",
   "execution_count": 3,
   "id": "92982cbf-9426-46a5-baa6-874f89842e34",
   "metadata": {},
   "outputs": [],
   "source": [
    "# df_photometry = (\n",
    "#     pl.read_parquet(get_files(\"photometry\"))\n",
    "#     .filter(pl.col(\"phot_bp_mean_flux\") > 5)\n",
    "# )"
   ]
  },
  {
   "cell_type": "markdown",
   "id": "8567498d-b57d-4b19-a71d-20c5cfa0b80a",
   "metadata": {},
   "source": [
    "### Lazy"
   ]
  },
  {
   "cell_type": "markdown",
   "id": "7b5ed8fa-f71f-4a7a-a799-8cc258bb0c6b",
   "metadata": {},
   "source": [
    "#### Number of unique objects"
   ]
  },
  {
   "cell_type": "code",
   "execution_count": 4,
   "id": "bfb2ca7c-ae16-4da5-8893-ce84f3200ac5",
   "metadata": {},
   "outputs": [],
   "source": [
    "def stream_query_1():\n",
    "\n",
    "    q1 = (\n",
    "        pl.scan_parquet(get_files(\"photometry\"))\n",
    "          .select(\"object_id\")\n",
    "          .unique()\n",
    "    )\n",
    "\n",
    "    #print(q1.explain(streaming = True))\n",
    "\n",
    "    return q1.collect(streaming = True)"
   ]
  },
  {
   "cell_type": "code",
   "execution_count": 5,
   "id": "de1ea280-16b4-451c-8cd6-f4a7d2e40e16",
   "metadata": {},
   "outputs": [],
   "source": [
    "#stream_query_1().shape"
   ]
  },
  {
   "cell_type": "markdown",
   "id": "ac6bb0b1-416d-4323-a119-92b43a10e5d1",
   "metadata": {},
   "source": [
    "#### Highest and lowest brightness"
   ]
  },
  {
   "cell_type": "code",
   "execution_count": 6,
   "id": "624a9d24-4b01-46fc-89e4-46b6bcd4c18b",
   "metadata": {},
   "outputs": [],
   "source": [
    "def stream_query_2():\n",
    "\n",
    "    q1 = (\n",
    "        pl.scan_parquet(get_files(\"photometry\"))\n",
    "          .group_by(\"healpix\")\n",
    "          .agg(\n",
    "              pl.col(\"phot_g_mean_mag\").min().alias(\"min_phot_g_mean_mag\"),\n",
    "              pl.col(\"phot_g_mean_mag\").max().alias(\"max_phot_g_mean_mag\")\n",
    "          )\n",
    "        .sort(\"healpix\")\n",
    "    )\n",
    "\n",
    "    #print(q1.explain(streaming = True))\n",
    "\n",
    "    return q1.collect(streaming = True)"
   ]
  },
  {
   "cell_type": "code",
   "execution_count": 7,
   "id": "c8342dfa-b09a-4d20-8f32-3cf489c37a00",
   "metadata": {},
   "outputs": [],
   "source": [
    "#stream_query_2()"
   ]
  },
  {
   "cell_type": "markdown",
   "id": "1235d389-5ed4-4204-a521-57c96a5d65b0",
   "metadata": {},
   "source": [
    "#### Joins"
   ]
  },
  {
   "cell_type": "code",
   "execution_count": 15,
   "id": "341efac3-570d-4bfa-92c0-15b712b0e0bc",
   "metadata": {},
   "outputs": [],
   "source": [
    "def stream_query_3(max_healpix):\n",
    "\n",
    "    q1 = (pl.scan_parquet(get_files(\"radial_velocity\"))\n",
    "            .select(\"radial_velocity\",\n",
    "                    \"object_id\",\n",
    "                    \"healpix\")\n",
    "            .filter(pl.col(\"healpix\") < max_healpix)\n",
    "            .unique(keep = 'any')\n",
    "         )\n",
    "\n",
    "    q2 = (pl.scan_parquet(get_files(\"astrometry\"))\n",
    "            .select(\"ra_error\",\n",
    "                    \"dec_error\",\n",
    "                    \"parallax_error\",\n",
    "                    \"object_id\",\n",
    "                    \"healpix\")\n",
    "            .filter(pl.col(\"healpix\") < max_healpix)\n",
    "            .unique(keep = 'any')\n",
    "         )\n",
    "\n",
    "    q3 = (pl.scan_parquet(get_files(\"gspphot\"))\n",
    "            .select(\"distance_gspphot\",\n",
    "                    \"azero_gspphot\",\n",
    "                    \"ebpminrp_gspphot\",\n",
    "                    \"object_id\",\n",
    "                    \"healpix\")\n",
    "            .filter(pl.col(\"healpix\") < max_healpix)\n",
    "            .unique(keep = 'any')\n",
    "         )\n",
    "\n",
    "    q4 = (\n",
    "        pl.scan_parquet(get_files(\"photometry\"))\n",
    "          .filter(pl.col(\"healpix\") < max_healpix)\n",
    "          .select(\n",
    "              \"object_id\",\n",
    "              \"healpix\",\n",
    "              \"phot_g_mean_mag\"\n",
    "          )\n",
    "          .unique(keep = 'any')\n",
    "          .join(q1, \n",
    "                on = [\"object_id\", \"healpix\"],\n",
    "                how = \"left\")\n",
    "          .join(q2, \n",
    "                on = [\"object_id\", \"healpix\"],\n",
    "                how = \"left\")\n",
    "          .join(q3, \n",
    "                on = [\"object_id\", \"healpix\"],\n",
    "                how = \"left\")\n",
    "          .fill_null(strategy = \"zero\")\n",
    "          .group_by(\"healpix\", maintain_order = False) \n",
    "          .agg(\n",
    "              pl.col(\"object_id\").count().alias(\"count_object_id\"),\n",
    "              pl.col(\"object_id\").null_count().alias(\"null_object_id\"),\n",
    "              pl.col(\"phot_g_mean_mag\").min().alias(\"min_phot_g_mean_mag\"),\n",
    "              pl.col(\"phot_g_mean_mag\").max().alias(\"max_phot_g_mean_mag\"),\n",
    "              pl.col(\"radial_velocity\").min().alias(\"min_radial_velocity\"),\n",
    "              pl.col(\"radial_velocity\").max().alias(\"max_radial_velocity\"),\n",
    "              pl.col(\"ra_error\").mean().alias(\"mean_ra_error\"),\n",
    "              pl.col(\"dec_error\").mean().alias(\"mean_dec_error\"),\n",
    "              pl.col(\"parallax_error\").mean().alias(\"mean_parallax_error\"),\n",
    "              pl.col(\"distance_gspphot\").min().alias(\"min_distance_gspphot\"),\n",
    "              pl.col(\"distance_gspphot\").max().alias(\"max_distance_gspphot\"),\n",
    "              pl.col(\"distance_gspphot\").std().alias(\"std_distance_gspphot\"),\n",
    "              pl.col(\"azero_gspphot\").std().alias(\"std_azero_gspphot\"),\n",
    "              pl.col(\"ebpminrp_gspphot\").std().alias(\"std_ebpminrp_gspphot\")\n",
    "              )\n",
    "          .sort(\"healpix\")\n",
    "    )\n",
    "\n",
    "    #print(q2.explain(streaming = True))\n",
    "\n",
    "    return q4.collect(streaming = True)"
   ]
  },
  {
   "cell_type": "code",
   "execution_count": 17,
   "id": "c6e78086-a4e9-4004-87cc-072da5c25151",
   "metadata": {},
   "outputs": [],
   "source": [
    "# %%time\n",
    "\n",
    "# stream_query_3(1500)\n",
    "\n",
    "# # CPU times: user 3min 29s, sys: 45 s, total: 4min 14s\n",
    "# # Wall time: 33.2 s"
   ]
  },
  {
   "cell_type": "markdown",
   "id": "0c63e745-89bb-482a-a176-443990f76bb7",
   "metadata": {},
   "source": [
    "#### Red and blue shift"
   ]
  },
  {
   "cell_type": "code",
   "execution_count": 10,
   "id": "4b0d3c9d-93ae-49fa-8eed-41faff950e5d",
   "metadata": {},
   "outputs": [],
   "source": [
    "def stream_query_4():\n",
    "    \n",
    "    q1 = (\n",
    "        pl.scan_parquet(get_files(\"radial_velocity\"))\n",
    "          .select(\"radial_velocity\")\n",
    "          .with_columns(\n",
    "              # Red shift\n",
    "              pl.when(pl.col(\"radial_velocity\") > 0)\n",
    "                .then(1)\n",
    "                .otherwise(0)\n",
    "                .alias(\"red\"),\n",
    "              \n",
    "              # Blue shift\n",
    "              pl.when(pl.col(\"radial_velocity\") < 0)\n",
    "                .then(-1)\n",
    "                .otherwise(0)\n",
    "                .alias(\"blue\"),\n",
    "          )\n",
    "    )\n",
    "\n",
    "    # Compute the sum of each column\n",
    "    result = q1.select([\n",
    "        pl.col(\"red\").sum().alias(\"sum_red\"),\n",
    "        pl.col(\"blue\").sum().alias(\"sum_blue\")\n",
    "    ])\n",
    "\n",
    "    #print(result.explain(streaming=True))\n",
    "\n",
    "    return result.collect(streaming = True)"
   ]
  },
  {
   "cell_type": "code",
   "execution_count": 11,
   "id": "27eff94e-c04c-4001-902f-07bfa8dbae37",
   "metadata": {},
   "outputs": [],
   "source": [
    "# stream_query_4()"
   ]
  },
  {
   "cell_type": "markdown",
   "id": "7565acff-35b3-47be-af93-ed48361d2a06",
   "metadata": {},
   "source": [
    "#### Calculate ZPC"
   ]
  },
  {
   "cell_type": "code",
   "execution_count": 12,
   "id": "72102f7c-36ca-4dc6-bd99-5f0420a59e35",
   "metadata": {},
   "outputs": [],
   "source": [
    "def stream_query_5():\n",
    "\n",
    "    q1 = (\n",
    "        pl.scan_parquet(get_files(\"photometry\"))\n",
    "          .select(\n",
    "              \"healpix\",\n",
    "              \"phot_g_mean_mag\",\n",
    "              \"phot_g_mean_flux\"\n",
    "          )\n",
    "          .with_columns(\n",
    "              (pl.col(\"phot_g_mean_mag\") + \n",
    "              (2.5 * pl.col(\"phot_g_mean_flux\").log(base = 10)))\n",
    "              .alias(\"g_ZP\")\n",
    "          )\n",
    "          .group_by(\"healpix\")\n",
    "          .agg(\n",
    "              pl.col(\"phot_g_mean_mag\").min().alias(\"min_phot_g_mean_mag\"),\n",
    "              pl.col(\"phot_g_mean_mag\").max().alias(\"max_phot_g_mean_mag\"),\n",
    "              pl.col(\"g_ZP\").mean().alias(\"mean_g_ZP\")\n",
    "          )\n",
    "          .sort(\"healpix\")\n",
    "    )\n",
    "\n",
    "    #print(q1.explain(streaming = True))\n",
    "\n",
    "    return q1.collect(streaming = True)"
   ]
  },
  {
   "cell_type": "code",
   "execution_count": 13,
   "id": "62b7179c-377d-49d2-a326-969b53e5ba6d",
   "metadata": {},
   "outputs": [],
   "source": [
    "#stream_query_5()"
   ]
  }
 ],
 "metadata": {
  "kernelspec": {
   "display_name": "Python 3 (ipykernel)",
   "language": "python",
   "name": "python3"
  },
  "language_info": {
   "codemirror_mode": {
    "name": "ipython",
    "version": 3
   },
   "file_extension": ".py",
   "mimetype": "text/x-python",
   "name": "python",
   "nbconvert_exporter": "python",
   "pygments_lexer": "ipython3",
   "version": "3.10.12"
  }
 },
 "nbformat": 4,
 "nbformat_minor": 5
}
