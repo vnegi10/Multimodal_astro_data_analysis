{
 "cells": [
  {
   "cell_type": "code",
   "execution_count": 105,
   "id": "7efce462-17fa-4580-96f0-553257bdbc68",
   "metadata": {
    "tags": []
   },
   "outputs": [],
   "source": [
    "import numpy as np\n",
    "import h5py\n",
    "import os\n",
    "\n",
    "from datasets import load_dataset\n",
    "import polars as pl"
   ]
  },
  {
   "cell_type": "code",
   "execution_count": 106,
   "id": "4131e408-35b8-42c9-8690-3a3ca776898c",
   "metadata": {
    "tags": []
   },
   "outputs": [
    {
     "name": "stdout",
     "output_type": "stream",
     "text": [
      "1.24.2\n",
      "1.18.0\n"
     ]
    }
   ],
   "source": [
    "print(np.__version__)\n",
    "print(pl.__version__)"
   ]
  },
  {
   "cell_type": "markdown",
   "id": "f97b01a1-5837-47ed-90b2-277f54a8ccda",
   "metadata": {},
   "source": [
    "## Get list of files"
   ]
  },
  {
   "cell_type": "code",
   "execution_count": 82,
   "id": "7539cad9-5dda-46f2-9cfa-5bc8e82b64d9",
   "metadata": {
    "tags": []
   },
   "outputs": [],
   "source": [
    "raw_dir = \"/home/vikas/Desktop/Globus/gaia\""
   ]
  },
  {
   "cell_type": "code",
   "execution_count": 83,
   "id": "7dbb5ba6-88df-46d4-910a-78e6be58e7ba",
   "metadata": {
    "tags": []
   },
   "outputs": [],
   "source": [
    "def get_files(raw_dir, ext):\n",
    "\n",
    "    files_found = []\n",
    "\n",
    "    for path, dirs, files in os.walk(raw_dir):\n",
    "        for file in files:\n",
    "            if file.endswith(ext):\n",
    "                files_found.append(os.path.join(path, file))\n",
    "\n",
    "    return files_found"
   ]
  },
  {
   "cell_type": "code",
   "execution_count": 80,
   "id": "98f66379-5ca9-41cd-80be-8007993d458e",
   "metadata": {
    "tags": []
   },
   "outputs": [],
   "source": [
    "# Define the sorting key function\n",
    "def healpix_sort_key(path):\n",
    "    \n",
    "    # Extract the number after 'healpix=' using string manipulation\n",
    "    healpix_part = path.split('healpix=')[1]\n",
    "    healpix_number = int(healpix_part.split('/')[0])\n",
    "    \n",
    "    return healpix_number"
   ]
  },
  {
   "cell_type": "code",
   "execution_count": 81,
   "id": "6124a49f-7a7d-4713-8b48-0e74e097b9f8",
   "metadata": {
    "tags": []
   },
   "outputs": [],
   "source": [
    "def sorted_files(start, end):\n",
    "    \n",
    "    files_hdf = get_files(raw_dir, \".hdf5\")\n",
    "    \n",
    "    files_hdf_sorted = sorted(files_hdf, key = healpix_sort_key)\n",
    "    \n",
    "    return files_hdf_sorted[start:end]    "
   ]
  },
  {
   "cell_type": "markdown",
   "id": "1b5521bc-b102-4803-9590-4198eca9f52a",
   "metadata": {},
   "source": [
    "## Load dataset"
   ]
  },
  {
   "cell_type": "code",
   "execution_count": 128,
   "id": "4a8d5a8f-445b-47b3-971b-a1dc9fb6b3ac",
   "metadata": {
    "tags": []
   },
   "outputs": [],
   "source": [
    "def load_data(start, end):\n",
    "    \n",
    "    # Total number of files/shards is 1882    \n",
    "    data_files = {\n",
    "    \"train\": sorted_files(start, end)\n",
    "    }\n",
    "    \n",
    "    hdf_dset = load_dataset(raw_dir,\n",
    "                            split = 'train',\n",
    "                            num_proc = 12,\n",
    "                            streaming = False,\n",
    "                            data_files = data_files)\n",
    "    \n",
    "    #hdf_dset = hdf_dset.with_format('numpy')\n",
    "    \n",
    "    return hdf_dset   "
   ]
  },
  {
   "cell_type": "markdown",
   "id": "9e128905-4cef-435e-bf93-9402f11eadd6",
   "metadata": {},
   "source": [
    "## Convert to Polars DataFrame"
   ]
  },
  {
   "cell_type": "code",
   "execution_count": 129,
   "id": "68cf6bc7-b287-4804-86f5-7ddc7a27f312",
   "metadata": {
    "tags": []
   },
   "outputs": [],
   "source": [
    "def get_object_id(hdf_dset):\n",
    "    \n",
    "    object_id_all = hdf_dset[:][\"object_id\"]\n",
    "    \n",
    "    object_series = pl.Series(\"object_id\", object_id_all)\n",
    "    \n",
    "    return object_series    "
   ]
  },
  {
   "cell_type": "code",
   "execution_count": 141,
   "id": "f051a5bc-c642-4a96-94ca-8fb3478e13c3",
   "metadata": {
    "tags": []
   },
   "outputs": [],
   "source": [
    "def dset_to_polars(hdf_dset, feature):\n",
    "    \n",
    "    # Collect all rows    \n",
    "    feature_all = hdf_dset[:][feature]\n",
    "    \n",
    "    # Convert to Polars DataFrame    \n",
    "    df_feature_all = pl.DataFrame(feature_all)\n",
    "    \n",
    "    # Add object_id as the first column    \n",
    "    df_feature_all.insert_column(0, object_series)\n",
    "    \n",
    "    return df_feature_all   "
   ]
  },
  {
   "cell_type": "code",
   "execution_count": 146,
   "id": "1c6e9aef-1d01-49e7-a909-94a0027c8068",
   "metadata": {
    "tags": []
   },
   "outputs": [],
   "source": [
    "hdf_dset = load_data(0, 10)\n",
    "\n",
    "object_series = get_object_id(hdf_dset)\n",
    "\n",
    "df_photometry = dset_to_polars(hdf_dset, \"photometry\") "
   ]
  },
  {
   "cell_type": "code",
   "execution_count": 147,
   "id": "c25c40b9-8a86-47ae-a702-935cf4ee0dde",
   "metadata": {
    "tags": []
   },
   "outputs": [
    {
     "data": {
      "text/html": [
       "<div><style>\n",
       ".dataframe > thead > tr,\n",
       ".dataframe > tbody > tr {\n",
       "  text-align: right;\n",
       "  white-space: pre-wrap;\n",
       "}\n",
       "</style>\n",
       "<small>shape: (70_051, 14)</small><table border=\"1\" class=\"dataframe\"><thead><tr><th>object_id</th><th>phot_g_mean_mag</th><th>phot_g_mean_flux</th><th>phot_g_mean_flux_error</th><th>phot_bp_mean_mag</th><th>phot_bp_mean_flux</th><th>phot_bp_mean_flux_error</th><th>phot_rp_mean_mag</th><th>phot_rp_mean_flux</th><th>phot_rp_mean_flux_error</th><th>phot_bp_rp_excess_factor</th><th>bp_rp</th><th>bp_g</th><th>g_rp</th></tr><tr><td>i64</td><td>f64</td><td>f64</td><td>f64</td><td>f64</td><td>f64</td><td>f64</td><td>f64</td><td>f64</td><td>f64</td><td>f64</td><td>f64</td><td>f64</td><td>f64</td></tr></thead><tbody><tr><td>4295806720</td><td>17.641426</td><td>1653.394775</td><td>2.075764</td><td>18.080235</td><td>800.429565</td><td>12.601409</td><td>17.061232</td><td>1187.588013</td><td>15.823832</td><td>1.202385</td><td>1.019003</td><td>0.438808</td><td>0.580194</td></tr><tr><td>38655544960</td><td>14.128453</td><td>42030.601562</td><td>11.392837</td><td>14.70305</td><td>17955.478516</td><td>26.03932</td><td>13.410816</td><td>34263.488281</td><td>36.75135</td><td>1.242404</td><td>1.292233</td><td>0.574596</td><td>0.717637</td></tr><tr><td>1275606125952</td><td>16.236271</td><td>6031.68457</td><td>3.778775</td><td>16.662441</td><td>2954.204102</td><td>15.563785</td><td>15.644692</td><td>4378.056152</td><td>17.483109</td><td>1.215624</td><td>1.017749</td><td>0.42617</td><td>0.591578</td></tr><tr><td>1653563247744</td><td>16.148806</td><td>6537.695801</td><td>3.721863</td><td>16.436014</td><td>3639.244629</td><td>19.61796</td><td>15.681716</td><td>4231.28125</td><td>13.291231</td><td>1.203869</td><td>0.754298</td><td>0.287209</td><td>0.46709</td></tr><tr><td>2851858288640</td><td>12.356248</td><td>215004.46875</td><td>66.965332</td><td>12.676144</td><td>116134.0625</td><td>101.780373</td><td>11.865775</td><td>142183.140625</td><td>67.716812</td><td>1.20145</td><td>0.810369</td><td>0.319896</td><td>0.490473</td></tr><tr><td>&hellip;</td><td>&hellip;</td><td>&hellip;</td><td>&hellip;</td><td>&hellip;</td><td>&hellip;</td><td>&hellip;</td><td>&hellip;</td><td>&hellip;</td><td>&hellip;</td><td>&hellip;</td><td>&hellip;</td><td>&hellip;</td><td>&hellip;</td></tr><tr><td>22516250085811840</td><td>14.284503</td><td>36403.6875</td><td>20.802837</td><td>14.977914</td><td>13939.628906</td><td>17.328167</td><td>13.465993</td><td>32565.744141</td><td>24.999876</td><td>1.277491</td><td>1.511921</td><td>0.693411</td><td>0.81851</td></tr><tr><td>22517074719532288</td><td>15.481333</td><td>12089.646484</td><td>5.258407</td><td>15.926439</td><td>5818.901367</td><td>14.095147</td><td>14.869446</td><td>8940.875</td><td>20.823158</td><td>1.220861</td><td>1.056993</td><td>0.445107</td><td>0.611887</td></tr><tr><td>22517143439009152</td><td>12.846614</td><td>136867.765625</td><td>35.41399</td><td>13.39869</td><td>59695.386719</td><td>48.034939</td><td>12.137379</td><td>110715.039062</td><td>106.337708</td><td>1.245073</td><td>1.261312</td><td>0.552076</td><td>0.709235</td></tr><tr><td>22517899353252480</td><td>17.28809</td><td>2289.34375</td><td>4.978139</td><td>17.963089</td><td>891.622803</td><td>20.064796</td><td>16.476665</td><td>2034.659058</td><td>14.773705</td><td>1.278219</td><td>1.486423</td><td>0.674999</td><td>0.811424</td></tr><tr><td>22517963777383936</td><td>16.475895</td><td>4837.138184</td><td>3.265723</td><td>16.902897</td><td>2367.328125</td><td>18.059429</td><td>15.876202</td><td>3537.347168</td><td>16.69169</td><td>1.220696</td><td>1.026695</td><td>0.427002</td><td>0.599693</td></tr></tbody></table></div>"
      ],
      "text/plain": [
       "shape: (70_051, 14)\n",
       "┌────────────┬────────────┬───────────┬───────────┬───┬───────────┬──────────┬──────────┬──────────┐\n",
       "│ object_id  ┆ phot_g_mea ┆ phot_g_me ┆ phot_g_me ┆ … ┆ phot_bp_r ┆ bp_rp    ┆ bp_g     ┆ g_rp     │\n",
       "│ ---        ┆ n_mag      ┆ an_flux   ┆ an_flux_e ┆   ┆ p_excess_ ┆ ---      ┆ ---      ┆ ---      │\n",
       "│ i64        ┆ ---        ┆ ---       ┆ rror      ┆   ┆ factor    ┆ f64      ┆ f64      ┆ f64      │\n",
       "│            ┆ f64        ┆ f64       ┆ ---       ┆   ┆ ---       ┆          ┆          ┆          │\n",
       "│            ┆            ┆           ┆ f64       ┆   ┆ f64       ┆          ┆          ┆          │\n",
       "╞════════════╪════════════╪═══════════╪═══════════╪═══╪═══════════╪══════════╪══════════╪══════════╡\n",
       "│ 4295806720 ┆ 17.641426  ┆ 1653.3947 ┆ 2.075764  ┆ … ┆ 1.202385  ┆ 1.019003 ┆ 0.438808 ┆ 0.580194 │\n",
       "│            ┆            ┆ 75        ┆           ┆   ┆           ┆          ┆          ┆          │\n",
       "│ 3865554496 ┆ 14.128453  ┆ 42030.601 ┆ 11.392837 ┆ … ┆ 1.242404  ┆ 1.292233 ┆ 0.574596 ┆ 0.717637 │\n",
       "│ 0          ┆            ┆ 562       ┆           ┆   ┆           ┆          ┆          ┆          │\n",
       "│ 1275606125 ┆ 16.236271  ┆ 6031.6845 ┆ 3.778775  ┆ … ┆ 1.215624  ┆ 1.017749 ┆ 0.42617  ┆ 0.591578 │\n",
       "│ 952        ┆            ┆ 7         ┆           ┆   ┆           ┆          ┆          ┆          │\n",
       "│ 1653563247 ┆ 16.148806  ┆ 6537.6958 ┆ 3.721863  ┆ … ┆ 1.203869  ┆ 0.754298 ┆ 0.287209 ┆ 0.46709  │\n",
       "│ 744        ┆            ┆ 01        ┆           ┆   ┆           ┆          ┆          ┆          │\n",
       "│ 2851858288 ┆ 12.356248  ┆ 215004.46 ┆ 66.965332 ┆ … ┆ 1.20145   ┆ 0.810369 ┆ 0.319896 ┆ 0.490473 │\n",
       "│ 640        ┆            ┆ 875       ┆           ┆   ┆           ┆          ┆          ┆          │\n",
       "│ …          ┆ …          ┆ …         ┆ …         ┆ … ┆ …         ┆ …        ┆ …        ┆ …        │\n",
       "│ 2251625008 ┆ 14.284503  ┆ 36403.687 ┆ 20.802837 ┆ … ┆ 1.277491  ┆ 1.511921 ┆ 0.693411 ┆ 0.81851  │\n",
       "│ 5811840    ┆            ┆ 5         ┆           ┆   ┆           ┆          ┆          ┆          │\n",
       "│ 2251707471 ┆ 15.481333  ┆ 12089.646 ┆ 5.258407  ┆ … ┆ 1.220861  ┆ 1.056993 ┆ 0.445107 ┆ 0.611887 │\n",
       "│ 9532288    ┆            ┆ 484       ┆           ┆   ┆           ┆          ┆          ┆          │\n",
       "│ 2251714343 ┆ 12.846614  ┆ 136867.76 ┆ 35.41399  ┆ … ┆ 1.245073  ┆ 1.261312 ┆ 0.552076 ┆ 0.709235 │\n",
       "│ 9009152    ┆            ┆ 5625      ┆           ┆   ┆           ┆          ┆          ┆          │\n",
       "│ 2251789935 ┆ 17.28809   ┆ 2289.3437 ┆ 4.978139  ┆ … ┆ 1.278219  ┆ 1.486423 ┆ 0.674999 ┆ 0.811424 │\n",
       "│ 3252480    ┆            ┆ 5         ┆           ┆   ┆           ┆          ┆          ┆          │\n",
       "│ 2251796377 ┆ 16.475895  ┆ 4837.1381 ┆ 3.265723  ┆ … ┆ 1.220696  ┆ 1.026695 ┆ 0.427002 ┆ 0.599693 │\n",
       "│ 7383936    ┆            ┆ 84        ┆           ┆   ┆           ┆          ┆          ┆          │\n",
       "└────────────┴────────────┴───────────┴───────────┴───┴───────────┴──────────┴──────────┴──────────┘"
      ]
     },
     "execution_count": 147,
     "metadata": {},
     "output_type": "execute_result"
    }
   ],
   "source": [
    "df_photometry"
   ]
  },
  {
   "cell_type": "markdown",
   "id": "14f6255a-2969-4549-8942-3e408313052e",
   "metadata": {},
   "source": [
    "## Convert to parquet"
   ]
  },
  {
   "cell_type": "code",
   "execution_count": 138,
   "id": "0b338e98-c575-4a84-b8d8-6271cf744000",
   "metadata": {
    "tags": []
   },
   "outputs": [],
   "source": [
    "dest_dir = \"/home/vikas/Desktop/Globus/gaia_parquet\""
   ]
  },
  {
   "cell_type": "code",
   "execution_count": 142,
   "id": "7e2c6d3a-3e74-4368-bb22-8aa7e602b5b8",
   "metadata": {
    "tags": []
   },
   "outputs": [],
   "source": [
    "def hdf_to_parquet(start, end):\n",
    "\n",
    "    hdf_dset = load_data(start, end)\n",
    "\n",
    "    object_series = get_object_id(hdf_dset)\n",
    "\n",
    "    features_list = [\n",
    "                     \"photometry\",\n",
    "                     \"astrometry\",\n",
    "                     \"radial_velocity\"\n",
    "                    ]\n",
    "    \n",
    "    for feature in features_list:\n",
    "        try:\n",
    "            df_feature = dset_to_polars(hdf_dset, feature)\n",
    "            \n",
    "            dest_parquet = os.path.join(\n",
    "                                        dest_dir,\n",
    "                                        feature,\n",
    "                                        f\"gaia_{feature}_{start}_{end}.parquet\"\n",
    "                                       )\n",
    "            \n",
    "            df_feature.write_parquet(\n",
    "                dest_parquet,\n",
    "                compression = \"zstd\",\n",
    "                compression_level = 22,\n",
    "                \n",
    "            )\n",
    "            \n",
    "        except:\n",
    "            print(f\"Unable to create parquet output for {feature}!\")\n",
    "            continue\n",
    "            \n",
    "    return None        "
   ]
  },
  {
   "cell_type": "code",
   "execution_count": 143,
   "id": "161f0a9c-2aea-416f-9639-e8a2a0b46c24",
   "metadata": {
    "tags": []
   },
   "outputs": [],
   "source": [
    "hdf_to_parquet(0, 10)"
   ]
  },
  {
   "cell_type": "markdown",
   "id": "a3984da6-de85-42a0-b005-da309cd2041f",
   "metadata": {},
   "source": [
    "## Test exported parquet files"
   ]
  },
  {
   "cell_type": "code",
   "execution_count": 152,
   "id": "358f3962-be65-43c0-8cfe-186fade33f27",
   "metadata": {
    "tags": []
   },
   "outputs": [],
   "source": [
    "# test_dir = \"/home/vikas/Desktop/Globus/gaia_parquet/photometry/*.parquet\"\n",
    "\n",
    "# query = (pl\n",
    "#          .scan_parquet(test_dir)\n",
    "#          .filter(pl.col(\"phot_g_mean_flux\") > 200000)\n",
    "#         )\n",
    "\n",
    "# query.collect(streaming=True)"
   ]
  },
  {
   "cell_type": "code",
   "execution_count": null,
   "id": "d2a99e37-c923-4854-a7ba-17220369e668",
   "metadata": {},
   "outputs": [],
   "source": []
  }
 ],
 "metadata": {
  "kernelspec": {
   "display_name": "Python 3 (ipykernel)",
   "language": "python",
   "name": "python3"
  },
  "language_info": {
   "codemirror_mode": {
    "name": "ipython",
    "version": 3
   },
   "file_extension": ".py",
   "mimetype": "text/x-python",
   "name": "python",
   "nbconvert_exporter": "python",
   "pygments_lexer": "ipython3",
   "version": "3.10.12"
  }
 },
 "nbformat": 4,
 "nbformat_minor": 5
}
