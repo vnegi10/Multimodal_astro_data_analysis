{
 "cells": [
  {
   "cell_type": "code",
   "execution_count": 105,
   "id": "7efce462-17fa-4580-96f0-553257bdbc68",
   "metadata": {
    "tags": []
   },
   "outputs": [],
   "source": [
    "import numpy as np\n",
    "import h5py\n",
    "import os\n",
    "\n",
    "from datasets import load_dataset\n",
    "import polars as pl"
   ]
  },
  {
   "cell_type": "code",
   "execution_count": 106,
   "id": "4131e408-35b8-42c9-8690-3a3ca776898c",
   "metadata": {
    "tags": []
   },
   "outputs": [
    {
     "name": "stdout",
     "output_type": "stream",
     "text": [
      "1.24.2\n",
      "1.18.0\n"
     ]
    }
   ],
   "source": [
    "print(np.__version__)\n",
    "print(pl.__version__)"
   ]
  },
  {
   "cell_type": "markdown",
   "id": "f97b01a1-5837-47ed-90b2-277f54a8ccda",
   "metadata": {},
   "source": [
    "## Get list of files"
   ]
  },
  {
   "cell_type": "code",
   "execution_count": 82,
   "id": "7539cad9-5dda-46f2-9cfa-5bc8e82b64d9",
   "metadata": {
    "tags": []
   },
   "outputs": [],
   "source": [
    "raw_dir = \"/home/vikas/Desktop/Globus/gaia\""
   ]
  },
  {
   "cell_type": "code",
   "execution_count": 83,
   "id": "7dbb5ba6-88df-46d4-910a-78e6be58e7ba",
   "metadata": {
    "tags": []
   },
   "outputs": [],
   "source": [
    "def get_files(raw_dir, ext):\n",
    "\n",
    "    files_found = []\n",
    "\n",
    "    for path, dirs, files in os.walk(raw_dir):\n",
    "        for file in files:\n",
    "            if file.endswith(ext):\n",
    "                files_found.append(os.path.join(path, file))\n",
    "\n",
    "    return files_found"
   ]
  },
  {
   "cell_type": "code",
   "execution_count": 80,
   "id": "98f66379-5ca9-41cd-80be-8007993d458e",
   "metadata": {
    "tags": []
   },
   "outputs": [],
   "source": [
    "# Define the sorting key function\n",
    "def healpix_sort_key(path):\n",
    "    \n",
    "    # Extract the number after 'healpix=' using string manipulation\n",
    "    healpix_part = path.split('healpix=')[1]\n",
    "    healpix_number = int(healpix_part.split('/')[0])\n",
    "    \n",
    "    return healpix_number"
   ]
  },
  {
   "cell_type": "code",
   "execution_count": 81,
   "id": "6124a49f-7a7d-4713-8b48-0e74e097b9f8",
   "metadata": {
    "tags": []
   },
   "outputs": [],
   "source": [
    "def sorted_files(start, end):\n",
    "    \n",
    "    files_hdf = get_files(raw_dir, \".hdf5\")\n",
    "    \n",
    "    files_hdf_sorted = sorted(files_hdf, key = healpix_sort_key)\n",
    "    \n",
    "    return files_hdf_sorted[start:end]    "
   ]
  },
  {
   "cell_type": "markdown",
   "id": "1b5521bc-b102-4803-9590-4198eca9f52a",
   "metadata": {},
   "source": [
    "## Load dataset"
   ]
  },
  {
   "cell_type": "code",
   "execution_count": 128,
   "id": "4a8d5a8f-445b-47b3-971b-a1dc9fb6b3ac",
   "metadata": {
    "tags": []
   },
   "outputs": [],
   "source": [
    "def load_data(start, end):\n",
    "    \n",
    "    # Total number of files/shards is 1882    \n",
    "    data_files = {\n",
    "    \"train\": sorted_files(start, end)\n",
    "    }\n",
    "    \n",
    "    hdf_dset = load_dataset(raw_dir,\n",
    "                            split = 'train',\n",
    "                            num_proc = 12,\n",
    "                            streaming = False,\n",
    "                            data_files = data_files)\n",
    "    \n",
    "    #hdf_dset = hdf_dset.with_format('numpy')\n",
    "    \n",
    "    return hdf_dset   "
   ]
  },
  {
   "cell_type": "markdown",
   "id": "9e128905-4cef-435e-bf93-9402f11eadd6",
   "metadata": {},
   "source": [
    "## Convert to Polars DataFrame"
   ]
  },
  {
   "cell_type": "code",
   "execution_count": 129,
   "id": "68cf6bc7-b287-4804-86f5-7ddc7a27f312",
   "metadata": {
    "tags": []
   },
   "outputs": [],
   "source": [
    "def get_object_id(hdf_dset):\n",
    "    \n",
    "    object_id_all = hdf_dset[:][\"object_id\"]\n",
    "    \n",
    "    object_series = pl.Series(\"object_id\", object_id_all)\n",
    "    \n",
    "    return object_series    "
   ]
  },
  {
   "cell_type": "code",
   "execution_count": 135,
   "id": "f051a5bc-c642-4a96-94ca-8fb3478e13c3",
   "metadata": {
    "tags": []
   },
   "outputs": [],
   "source": [
    "def dset_to_polars(hdf_dset, feature):\n",
    "    \n",
    "    feature_all = hdf_dset[:][feature]\n",
    "    \n",
    "    df_feature_all = pl.DataFrame(feature_all)\n",
    "    \n",
    "    df_feature_all.insert_column(0, object_series)\n",
    "    \n",
    "    return df_feature_all   "
   ]
  },
  {
   "cell_type": "code",
   "execution_count": 136,
   "id": "1c6e9aef-1d01-49e7-a909-94a0027c8068",
   "metadata": {
    "tags": []
   },
   "outputs": [],
   "source": [
    "hdf_dset = load_data(0, 10)\n",
    "\n",
    "object_series = get_object_id(hdf_dset)\n",
    "\n",
    "df_photometry = dset_to_polars(hdf_dset, \"photometry\") "
   ]
  },
  {
   "cell_type": "code",
   "execution_count": null,
   "id": "111c1bf5-f717-4b6d-992b-146d334306f6",
   "metadata": {
    "tags": []
   },
   "outputs": [],
   "source": []
  },
  {
   "cell_type": "markdown",
   "id": "14f6255a-2969-4549-8942-3e408313052e",
   "metadata": {},
   "source": [
    "## Convert to parquet"
   ]
  },
  {
   "cell_type": "code",
   "execution_count": 25,
   "id": "0b338e98-c575-4a84-b8d8-6271cf744000",
   "metadata": {},
   "outputs": [],
   "source": [
    "dest_dir = \"/home/vikas/Desktop/Globus_parquet/Gaia\""
   ]
  },
  {
   "cell_type": "code",
   "execution_count": null,
   "id": "7e2c6d3a-3e74-4368-bb22-8aa7e602b5b8",
   "metadata": {},
   "outputs": [],
   "source": [
    "def hdf_to_parquet(raw_dir, dest_dir):\n",
    "\n",
    "    files_hdf = get_files(raw_dir, \".hdf5\")\n",
    "\n",
    "    for file in files_hdf:\n",
    "        df_in = pd.read_hdf(file)\n",
    "\n",
    "        fname = file.split(\"/\")[-2]\n",
    "        dir_out = os.path.join(dest_dir, fname)\n",
    "\n",
    "        if not os.path.isdir(dir_out):\n",
    "            os.mkdir(dir_out)\n",
    "\n",
    "        df_in.to_parquet\n",
    "\n",
    "\n",
    "        \n",
    "        "
   ]
  }
 ],
 "metadata": {
  "kernelspec": {
   "display_name": "Python 3 (ipykernel)",
   "language": "python",
   "name": "python3"
  },
  "language_info": {
   "codemirror_mode": {
    "name": "ipython",
    "version": 3
   },
   "file_extension": ".py",
   "mimetype": "text/x-python",
   "name": "python",
   "nbconvert_exporter": "python",
   "pygments_lexer": "ipython3",
   "version": "3.10.12"
  }
 },
 "nbformat": 4,
 "nbformat_minor": 5
}
