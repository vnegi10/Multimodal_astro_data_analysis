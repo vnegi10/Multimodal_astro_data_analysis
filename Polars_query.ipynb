{
 "cells": [
  {
   "cell_type": "code",
   "execution_count": 2,
   "id": "878d251d-4be3-4c6e-973a-1485d75f1060",
   "metadata": {},
   "outputs": [
    {
     "name": "stdout",
     "output_type": "stream",
     "text": [
      "1.18.0\n"
     ]
    }
   ],
   "source": [
    "import polars as pl\n",
    "print(pl.__version__)\n",
    "\n",
    "import os"
   ]
  },
  {
   "cell_type": "markdown",
   "id": "92b94bff-f2dc-44a2-9f01-ebb349addeaf",
   "metadata": {},
   "source": [
    "## Get list of files"
   ]
  },
  {
   "cell_type": "code",
   "execution_count": 3,
   "id": "7b058911-26c0-40d5-b992-23386ee18a52",
   "metadata": {},
   "outputs": [],
   "source": [
    "parquet_folder = \"/home/vikas/Desktop/Globus/Gaia/gaia_parquet\"\n",
    "\n",
    "def get_files(table_name):\n",
    "\n",
    "    return os.path.join(parquet_folder, table_name, \"*\")"
   ]
  },
  {
   "cell_type": "markdown",
   "id": "f49ef929-c6f3-4114-a6c4-ff7c0998f76b",
   "metadata": {},
   "source": [
    "## Run query"
   ]
  },
  {
   "cell_type": "markdown",
   "id": "7d290d86-36d0-40c7-822a-c5012e0598a8",
   "metadata": {},
   "source": [
    "#### Eager"
   ]
  },
  {
   "cell_type": "code",
   "execution_count": 4,
   "id": "92982cbf-9426-46a5-baa6-874f89842e34",
   "metadata": {},
   "outputs": [],
   "source": [
    "# df_photometry = (\n",
    "#     pl.read_parquet(get_files(\"photometry\"))\n",
    "#     .filter(pl.col(\"phot_bp_mean_flux\") > 5)\n",
    "# )"
   ]
  },
  {
   "cell_type": "markdown",
   "id": "8567498d-b57d-4b19-a71d-20c5cfa0b80a",
   "metadata": {},
   "source": [
    "#### Lazy"
   ]
  },
  {
   "cell_type": "markdown",
   "id": "7b5ed8fa-f71f-4a7a-a799-8cc258bb0c6b",
   "metadata": {},
   "source": [
    "##### Number of unique objects"
   ]
  },
  {
   "cell_type": "code",
   "execution_count": 5,
   "id": "bfb2ca7c-ae16-4da5-8893-ce84f3200ac5",
   "metadata": {},
   "outputs": [],
   "source": [
    "def stream_query_1():\n",
    "\n",
    "    q1 = (\n",
    "        pl.scan_parquet(get_files(\"photometry\"))\n",
    "          .select(\"object_id\")\n",
    "          .unique()\n",
    "    )\n",
    "\n",
    "    #print(q1.explain(streaming = True))\n",
    "\n",
    "    return q1.collect(streaming = True)"
   ]
  },
  {
   "cell_type": "code",
   "execution_count": 6,
   "id": "de1ea280-16b4-451c-8cd6-f4a7d2e40e16",
   "metadata": {},
   "outputs": [],
   "source": [
    "#stream_query_1().shape"
   ]
  },
  {
   "cell_type": "markdown",
   "id": "ac6bb0b1-416d-4323-a119-92b43a10e5d1",
   "metadata": {},
   "source": [
    "##### Maximum and "
   ]
  },
  {
   "cell_type": "code",
   "execution_count": 9,
   "id": "624a9d24-4b01-46fc-89e4-46b6bcd4c18b",
   "metadata": {},
   "outputs": [],
   "source": [
    "def stream_query_2():\n",
    "\n",
    "    q1 = (\n",
    "        pl.scan_parquet(get_files(\"photometry\"))\n",
    "          .group_by(\"healpix\")\n",
    "          .agg(\n",
    "              pl.col(\"phot_g_mean_mag\").min().alias(\"min_phot_g_mean_mag\"),\n",
    "              pl.col(\"phot_g_mean_mag\").max().alias(\"max_phot_g_mean_mag\")\n",
    "          )\n",
    "        .sort(\"healpix\")\n",
    "    )\n",
    "\n",
    "    #print(q1.explain(streaming = True))\n",
    "\n",
    "    return q1.collect(streaming = True)"
   ]
  },
  {
   "cell_type": "code",
   "execution_count": 10,
   "id": "c8342dfa-b09a-4d20-8f32-3cf489c37a00",
   "metadata": {},
   "outputs": [
    {
     "data": {
      "text/html": [
       "<div><style>\n",
       ".dataframe > thead > tr,\n",
       ".dataframe > tbody > tr {\n",
       "  text-align: right;\n",
       "  white-space: pre-wrap;\n",
       "}\n",
       "</style>\n",
       "<small>shape: (1_760, 3)</small><table border=\"1\" class=\"dataframe\"><thead><tr><th>healpix</th><th>min_phot_g_mean_mag</th><th>max_phot_g_mean_mag</th></tr><tr><td>i32</td><td>f32</td><td>f32</td></tr></thead><tbody><tr><td>0</td><td>6.855546</td><td>19.842781</td></tr><tr><td>1</td><td>7.355467</td><td>19.706682</td></tr><tr><td>2</td><td>7.312822</td><td>19.992142</td></tr><tr><td>3</td><td>6.964732</td><td>19.499153</td></tr><tr><td>4</td><td>3.382374</td><td>20.126875</td></tr><tr><td>&hellip;</td><td>&hellip;</td><td>&hellip;</td></tr><tr><td>2685</td><td>6.030447</td><td>20.092436</td></tr><tr><td>2686</td><td>4.124845</td><td>20.017384</td></tr><tr><td>2687</td><td>4.425611</td><td>20.595608</td></tr><tr><td>2688</td><td>4.03991</td><td>19.728607</td></tr><tr><td>2689</td><td>4.397129</td><td>20.371239</td></tr></tbody></table></div>"
      ],
      "text/plain": [
       "shape: (1_760, 3)\n",
       "┌─────────┬─────────────────────┬─────────────────────┐\n",
       "│ healpix ┆ min_phot_g_mean_mag ┆ max_phot_g_mean_mag │\n",
       "│ ---     ┆ ---                 ┆ ---                 │\n",
       "│ i32     ┆ f32                 ┆ f32                 │\n",
       "╞═════════╪═════════════════════╪═════════════════════╡\n",
       "│ 0       ┆ 6.855546            ┆ 19.842781           │\n",
       "│ 1       ┆ 7.355467            ┆ 19.706682           │\n",
       "│ 2       ┆ 7.312822            ┆ 19.992142           │\n",
       "│ 3       ┆ 6.964732            ┆ 19.499153           │\n",
       "│ 4       ┆ 3.382374            ┆ 20.126875           │\n",
       "│ …       ┆ …                   ┆ …                   │\n",
       "│ 2685    ┆ 6.030447            ┆ 20.092436           │\n",
       "│ 2686    ┆ 4.124845            ┆ 20.017384           │\n",
       "│ 2687    ┆ 4.425611            ┆ 20.595608           │\n",
       "│ 2688    ┆ 4.03991             ┆ 19.728607           │\n",
       "│ 2689    ┆ 4.397129            ┆ 20.371239           │\n",
       "└─────────┴─────────────────────┴─────────────────────┘"
      ]
     },
     "execution_count": 10,
     "metadata": {},
     "output_type": "execute_result"
    }
   ],
   "source": [
    "stream_query_2()"
   ]
  },
  {
   "cell_type": "code",
   "execution_count": null,
   "id": "79516861-96a5-4aae-baf3-042522bf2276",
   "metadata": {},
   "outputs": [],
   "source": []
  }
 ],
 "metadata": {
  "kernelspec": {
   "display_name": "Python 3 (ipykernel)",
   "language": "python",
   "name": "python3"
  },
  "language_info": {
   "codemirror_mode": {
    "name": "ipython",
    "version": 3
   },
   "file_extension": ".py",
   "mimetype": "text/x-python",
   "name": "python",
   "nbconvert_exporter": "python",
   "pygments_lexer": "ipython3",
   "version": "3.10.12"
  }
 },
 "nbformat": 4,
 "nbformat_minor": 5
}
