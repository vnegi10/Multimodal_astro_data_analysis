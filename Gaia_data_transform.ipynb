{
 "cells": [
  {
   "cell_type": "code",
   "execution_count": 69,
   "id": "7efce462-17fa-4580-96f0-553257bdbc68",
   "metadata": {},
   "outputs": [],
   "source": [
    "import numpy as np\n",
    "import h5py\n",
    "import os\n",
    "\n",
    "from datasets import load_dataset\n",
    "from tqdm import tqdm"
   ]
  },
  {
   "cell_type": "code",
   "execution_count": 70,
   "id": "4131e408-35b8-42c9-8690-3a3ca776898c",
   "metadata": {},
   "outputs": [
    {
     "name": "stdout",
     "output_type": "stream",
     "text": [
      "1.25.0\n"
     ]
    }
   ],
   "source": [
    "print(np.__version__)"
   ]
  },
  {
   "cell_type": "markdown",
   "id": "f97b01a1-5837-47ed-90b2-277f54a8ccda",
   "metadata": {},
   "source": [
    "## Get list of files"
   ]
  },
  {
   "cell_type": "code",
   "execution_count": 3,
   "id": "7539cad9-5dda-46f2-9cfa-5bc8e82b64d9",
   "metadata": {},
   "outputs": [],
   "source": [
    "raw_dir = \"/home/vikas/Desktop/Globus/Gaia/gaia\""
   ]
  },
  {
   "cell_type": "code",
   "execution_count": 4,
   "id": "7dbb5ba6-88df-46d4-910a-78e6be58e7ba",
   "metadata": {},
   "outputs": [],
   "source": [
    "def get_files(raw_dir, ext):\n",
    "\n",
    "    files_found = []\n",
    "\n",
    "    for path, dirs, files in os.walk(raw_dir):\n",
    "        for file in files:\n",
    "            if file.endswith(ext):\n",
    "                files_found.append(os.path.join(path, file))\n",
    "\n",
    "    return files_found"
   ]
  },
  {
   "cell_type": "code",
   "execution_count": 5,
   "id": "85a16e7a-0e74-46f6-a188-562f79c74cdf",
   "metadata": {},
   "outputs": [],
   "source": [
    "files_hdf = get_files(raw_dir, \".hdf5\")"
   ]
  },
  {
   "cell_type": "code",
   "execution_count": 6,
   "id": "26f060a0-2ebd-479e-8466-71c4c942730c",
   "metadata": {},
   "outputs": [
    {
     "data": {
      "text/plain": [
       "1882"
      ]
     },
     "execution_count": 6,
     "metadata": {},
     "output_type": "execute_result"
    }
   ],
   "source": [
    "len(files_hdf)"
   ]
  },
  {
   "cell_type": "markdown",
   "id": "1b5521bc-b102-4803-9590-4198eca9f52a",
   "metadata": {},
   "source": [
    "## Load dataset"
   ]
  },
  {
   "cell_type": "code",
   "execution_count": 62,
   "id": "efd3e06c-ab28-4076-97e8-b91a279c1fa2",
   "metadata": {},
   "outputs": [],
   "source": [
    "hdf_dset = load_dataset(raw_dir,\n",
    "                        split = 'train',\n",
    "                        #num_proc = 4,\n",
    "                        streaming = True)\n",
    "\n",
    "hdf_dset = hdf_dset.with_format('numpy')"
   ]
  },
  {
   "cell_type": "code",
   "execution_count": 63,
   "id": "992997e9-a699-4baf-b9ed-0b2d04ef96e4",
   "metadata": {},
   "outputs": [
    {
     "data": {
      "text/plain": [
       "IterableDataset({\n",
       "    features: ['spectral_coefficients', 'photometry', 'astrometry', 'radial_velocity', 'gspphot', 'flags', 'corrections', 'object_id', 'healpix', 'ra', 'dec'],\n",
       "    num_shards: 1882\n",
       "})"
      ]
     },
     "execution_count": 63,
     "metadata": {},
     "output_type": "execute_result"
    }
   ],
   "source": [
    "hdf_dset"
   ]
  },
  {
   "cell_type": "code",
   "execution_count": 68,
   "id": "46d696b6-6b78-4646-bb9f-bae95947c9cf",
   "metadata": {},
   "outputs": [],
   "source": [
    "# row_count = sum(1 for _ in tqdm(hdf_dset, desc=\"Counting rows\"))\n",
    "# print(f\"Total number of rows: {row_count}\")    "
   ]
  },
  {
   "cell_type": "code",
   "execution_count": null,
   "id": "58641594-84b9-48d1-897a-9202645a8788",
   "metadata": {},
   "outputs": [],
   "source": []
  },
  {
   "cell_type": "markdown",
   "id": "14f6255a-2969-4549-8942-3e408313052e",
   "metadata": {},
   "source": [
    "## Convert to parquet"
   ]
  },
  {
   "cell_type": "code",
   "execution_count": 25,
   "id": "0b338e98-c575-4a84-b8d8-6271cf744000",
   "metadata": {},
   "outputs": [],
   "source": [
    "dest_dir = \"/home/vikas/Desktop/Globus_parquet/Gaia\""
   ]
  },
  {
   "cell_type": "code",
   "execution_count": null,
   "id": "7e2c6d3a-3e74-4368-bb22-8aa7e602b5b8",
   "metadata": {},
   "outputs": [],
   "source": [
    "def hdf_to_parquet(raw_dir, dest_dir):\n",
    "\n",
    "    files_hdf = get_files(raw_dir, \".hdf5\")\n",
    "\n",
    "    for file in files_hdf:\n",
    "        df_in = pd.read_hdf(file)\n",
    "\n",
    "        fname = file.split(\"/\")[-2]\n",
    "        dir_out = os.path.join(dest_dir, fname)\n",
    "\n",
    "        if not os.path.isdir(dir_out):\n",
    "            os.mkdir(dir_out)\n",
    "\n",
    "        df_in.to_parquet\n",
    "\n",
    "\n",
    "        \n",
    "        "
   ]
  }
 ],
 "metadata": {
  "kernelspec": {
   "display_name": "Python 3 (ipykernel)",
   "language": "python",
   "name": "python3"
  },
  "language_info": {
   "codemirror_mode": {
    "name": "ipython",
    "version": 3
   },
   "file_extension": ".py",
   "mimetype": "text/x-python",
   "name": "python",
   "nbconvert_exporter": "python",
   "pygments_lexer": "ipython3",
   "version": "3.10.12"
  }
 },
 "nbformat": 4,
 "nbformat_minor": 5
}
