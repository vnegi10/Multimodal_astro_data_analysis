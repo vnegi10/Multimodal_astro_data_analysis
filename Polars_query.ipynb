{
 "cells": [
  {
   "cell_type": "code",
   "execution_count": 4,
   "id": "878d251d-4be3-4c6e-973a-1485d75f1060",
   "metadata": {},
   "outputs": [
    {
     "name": "stdout",
     "output_type": "stream",
     "text": [
      "1.18.0\n"
     ]
    }
   ],
   "source": [
    "import polars as pl\n",
    "print(pl.__version__)\n",
    "\n",
    "import os"
   ]
  },
  {
   "cell_type": "markdown",
   "id": "92b94bff-f2dc-44a2-9f01-ebb349addeaf",
   "metadata": {},
   "source": [
    "## Get list of files"
   ]
  },
  {
   "cell_type": "code",
   "execution_count": 5,
   "id": "7b058911-26c0-40d5-b992-23386ee18a52",
   "metadata": {},
   "outputs": [],
   "source": [
    "parquet_folder = \"/home/vikas/Desktop/Globus/Gaia/gaia_parquet\"\n",
    "\n",
    "def get_files(table_name):\n",
    "\n",
    "    return os.path.join(parquet_folder, table_name, \"*\")"
   ]
  },
  {
   "cell_type": "markdown",
   "id": "f49ef929-c6f3-4114-a6c4-ff7c0998f76b",
   "metadata": {},
   "source": [
    "## Run query"
   ]
  },
  {
   "cell_type": "markdown",
   "id": "7d290d86-36d0-40c7-822a-c5012e0598a8",
   "metadata": {},
   "source": [
    "#### Eager"
   ]
  },
  {
   "cell_type": "code",
   "execution_count": 6,
   "id": "92982cbf-9426-46a5-baa6-874f89842e34",
   "metadata": {},
   "outputs": [],
   "source": [
    "# df_photometry = (\n",
    "#     pl.read_parquet(get_files(\"photometry\"))\n",
    "#     .filter(pl.col(\"phot_bp_mean_flux\") > 5)\n",
    "# )"
   ]
  },
  {
   "cell_type": "markdown",
   "id": "8567498d-b57d-4b19-a71d-20c5cfa0b80a",
   "metadata": {},
   "source": [
    "#### Lazy"
   ]
  },
  {
   "cell_type": "code",
   "execution_count": 11,
   "id": "bfb2ca7c-ae16-4da5-8893-ce84f3200ac5",
   "metadata": {},
   "outputs": [],
   "source": [
    "def stream_query_1():\n",
    "\n",
    "    q1 = (\n",
    "        pl.scan_parquet(get_files(\"photometry\"))\n",
    "          .select(\"object_id\")\n",
    "          .unique()\n",
    "    )\n",
    "\n",
    "    #print(q1.explain(streaming = True))\n",
    "\n",
    "    return q1.collect(streaming = True)"
   ]
  },
  {
   "cell_type": "code",
   "execution_count": 12,
   "id": "de1ea280-16b4-451c-8cd6-f4a7d2e40e16",
   "metadata": {},
   "outputs": [
    {
     "data": {
      "text/plain": [
       "(110111508, 1)"
      ]
     },
     "execution_count": 12,
     "metadata": {},
     "output_type": "execute_result"
    }
   ],
   "source": [
    "stream_query_1().shape"
   ]
  },
  {
   "cell_type": "code",
   "execution_count": null,
   "id": "624a9d24-4b01-46fc-89e4-46b6bcd4c18b",
   "metadata": {},
   "outputs": [],
   "source": []
  }
 ],
 "metadata": {
  "kernelspec": {
   "display_name": "Python 3 (ipykernel)",
   "language": "python",
   "name": "python3"
  },
  "language_info": {
   "codemirror_mode": {
    "name": "ipython",
    "version": 3
   },
   "file_extension": ".py",
   "mimetype": "text/x-python",
   "name": "python",
   "nbconvert_exporter": "python",
   "pygments_lexer": "ipython3",
   "version": "3.10.12"
  }
 },
 "nbformat": 4,
 "nbformat_minor": 5
}
